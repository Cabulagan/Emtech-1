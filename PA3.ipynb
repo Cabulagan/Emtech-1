{
  "nbformat": 4,
  "nbformat_minor": 0,
  "metadata": {
    "colab": {
      "provenance": [],
      "authorship_tag": "ABX9TyO8lqpUCE6JiUFu+SJFU7es",
      "include_colab_link": true
    },
    "kernelspec": {
      "name": "python3",
      "display_name": "Python 3"
    },
    "language_info": {
      "name": "python"
    }
  },
  "cells": [
    {
      "cell_type": "markdown",
      "metadata": {
        "id": "view-in-github",
        "colab_type": "text"
      },
      "source": [
        "<a href=\"https://colab.research.google.com/github/Cabulagan/Emtech-1/blob/main/PA3.ipynb\" target=\"_parent\"><img src=\"https://colab.research.google.com/assets/colab-badge.svg\" alt=\"Open In Colab\"/></a>"
      ]
    },
    {
      "cell_type": "code",
      "execution_count": null,
      "metadata": {
        "id": "ftA9qmEdmhu1"
      },
      "outputs": [],
      "source": [
        "# Import necessary libraries\n",
        "import pandas as pd\n",
        "from sklearn.model_selection import train_test_split\n",
        "from sklearn.pipeline import Pipeline\n",
        "from sklearn.preprocessing import StandardScaler\n",
        "from sklearn.linear_model import LogisticRegression\n",
        "from sklearn.metrics import accuracy_score, confusion_matrix, roc_curve, roc_auc_score\n",
        "import numpy as np\n",
        "import matplotlib.pyplot as plt\n",
        "\n",
        "# Load the data\n",
        "# Define column names based on the dataset description\n",
        "dataset_columns = [\n",
        "    \"ID\", \"Diagnosis\", \"Radius_Mean\", \"Texture_Mean\", \"Perimeter_Mean\", \"Area_Mean\",\n",
        "    \"Smoothness_Mean\", \"Compactness_Mean\", \"Concavity_Mean\", \"Concave_Points_Mean\",\n",
        "    \"Symmetry_Mean\", \"Fractal_Dimension_Mean\", \"Radius_SE\", \"Texture_SE\", \"Perimeter_SE\",\n",
        "    \"Area_SE\", \"Smoothness_SE\", \"Compactness_SE\", \"Concavity_SE\", \"Concave_Points_SE\",\n",
        "    \"Symmetry_SE\", \"Fractal_Dimension_SE\", \"Radius_Worst\", \"Texture_Worst\", \"Perimeter_Worst\",\n",
        "    \"Area_Worst\", \"Smoothness_Worst\", \"Compactness_Worst\", \"Concavity_Worst\", \"Concave_Points_Worst\",\n",
        "    \"Symmetry_Worst\", \"Fractal_Dimension_Worst\"\n",
        "]\n",
        "\n",
        "# Read the data into a DataFrame\n",
        "data = pd.read_csv(\"wdbc.data\", header=None, names=dataset_columns)"
      ]
    }
  ]
}